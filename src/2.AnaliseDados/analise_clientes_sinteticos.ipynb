{
 "cells": [
  {
   "cell_type": "code",
   "execution_count": 0,
   "metadata": {
    "application/vnd.databricks.v1+cell": {
     "cellMetadata": {
      "byteLimit": 2048000,
      "rowLimit": 10000
     },
     "inputWidgets": {},
     "nuid": "30002edd-5616-414b-91ca-393134aa3ea3",
     "showTitle": true,
     "tableResultSettingsMap": {},
     "title": "Imports"
    }
   },
   "outputs": [],
   "source": [
    "from pyspark.sql.functions import *\n",
    "from pyspark.sql import Window"
   ]
  },
  {
   "cell_type": "code",
   "execution_count": 0,
   "metadata": {
    "application/vnd.databricks.v1+cell": {
     "cellMetadata": {
      "byteLimit": 2048000,
      "rowLimit": 10000
     },
     "inputWidgets": {},
     "nuid": "969005d0-c23c-42f5-b0e3-def112400d81",
     "showTitle": true,
     "tableResultSettingsMap": {},
     "title": "Paths"
    }
   },
   "outputs": [],
   "source": [
    "path_raw = \"dbfs:/FileStore/clientes_sinteticos.csv\""
   ]
  },
  {
   "cell_type": "code",
   "execution_count": 0,
   "metadata": {
    "application/vnd.databricks.v1+cell": {
     "cellMetadata": {
      "byteLimit": 2048000,
      "rowLimit": 10000
     },
     "inputWidgets": {},
     "nuid": "4a53966e-1e80-4e98-8335-2b0160ee3eef",
     "showTitle": true,
     "tableResultSettingsMap": {},
     "title": "Dataframe inicial"
    }
   },
   "outputs": [],
   "source": [
    "df_clientes = spark.read.csv(path_raw, header=True, sep=\",\")"
   ]
  },
  {
   "cell_type": "markdown",
   "metadata": {
    "application/vnd.databricks.v1+cell": {
     "cellMetadata": {},
     "inputWidgets": {},
     "nuid": "64e7762c-b594-4eae-9849-ac59d3a69cb8",
     "showTitle": false,
     "tableResultSettingsMap": {},
     "title": ""
    }
   },
   "source": [
    "## Pergunta 1: Top 5 clientes"
   ]
  },
  {
   "cell_type": "code",
   "execution_count": 0,
   "metadata": {
    "application/vnd.databricks.v1+cell": {
     "cellMetadata": {
      "byteLimit": 2048000,
      "rowLimit": 10000
     },
     "inputWidgets": {},
     "nuid": "0d80f353-a8b2-4808-86c2-0d9876ef68e8",
     "showTitle": true,
     "tableResultSettingsMap": {},
     "title": "Pergunta 1: Top 5 clientes"
    }
   },
   "outputs": [
    {
     "output_type": "stream",
     "name": "stdout",
     "output_type": "stream",
     "text": [
      "+-----------+---------------+----------------+\n|cod_cliente|nm_cliente     |qtd_atualizacoes|\n+-----------+---------------+----------------+\n|396        |Donald Walker  |5               |\n|396        |Shelia Lara    |5               |\n|396        |Jennifer Malone|5               |\n|396        |Sarah Allen    |5               |\n|396        |Shelby Nelson  |5               |\n+-----------+---------------+----------------+\n\n"
     ]
    }
   ],
   "source": [
    "\"\"\"\n",
    "Resposta - O top 5 dos clientes são:\n",
    "+-----------+---------------+----------------+\n",
    "|cod_cliente|nm_cliente     |qtd_atualizacoes|\n",
    "+-----------+---------------+----------------+\n",
    "|396        |Donald Walker  |5               |\n",
    "|396        |Shelia Lara    |5               |\n",
    "|396        |Jennifer Malone|5               |\n",
    "|396        |Sarah Allen    |5               |\n",
    "|396        |Shelby Nelson  |5               |\n",
    "+-----------+---------------+----------------+\n",
    "\"\"\"\n",
    "\n",
    "window_spec = Window.partitionBy(\"cod_cliente\")\n",
    "\n",
    "df_top5_clientes = (\n",
    "    df_clientes.withColumn(\"qtd_atualizacoes\", count(\"dt_atualizacao\").over(window_spec).distinct())\n",
    "      .orderBy(desc(\"qtd_atualizacoes\"))\n",
    "      .select(\"cod_cliente\", \"nm_cliente\", \"qtd_atualizacoes\")\n",
    "      .limit(5)\n",
    ")\n",
    "\n",
    "df_top5_clientes.show(truncate=False)"
   ]
  },
  {
   "cell_type": "markdown",
   "metadata": {
    "application/vnd.databricks.v1+cell": {
     "cellMetadata": {},
     "inputWidgets": {},
     "nuid": "ca8cdddd-e77a-465f-acad-2b306b562be9",
     "showTitle": false,
     "tableResultSettingsMap": {},
     "title": ""
    }
   },
   "source": [
    "## Pergunta 2: Media de idade dos clientes"
   ]
  },
  {
   "cell_type": "code",
   "execution_count": 0,
   "metadata": {
    "application/vnd.databricks.v1+cell": {
     "cellMetadata": {
      "byteLimit": 2048000,
      "rowLimit": 10000
     },
     "inputWidgets": {},
     "nuid": "c72da637-1b86-428c-b4e3-c6e74bc96270",
     "showTitle": true,
     "tableResultSettingsMap": {},
     "title": "Pergunta 1: Top 5 clientes"
    }
   },
   "outputs": [
    {
     "output_type": "display_data",
     "data": {
      "text/html": [
       "<style scoped>\n",
       "  .table-result-container {\n",
       "    max-height: 300px;\n",
       "    overflow: auto;\n",
       "  }\n",
       "  table, th, td {\n",
       "    border: 1px solid black;\n",
       "    border-collapse: collapse;\n",
       "  }\n",
       "  th, td {\n",
       "    padding: 5px;\n",
       "  }\n",
       "  th {\n",
       "    text-align: left;\n",
       "  }\n",
       "</style><div class='table-result-container'><table class='table-result'><thead style='background-color: white'><tr><th>cod_cliente</th><th>nm_cliente</th><th>nm_pais_cliente</th><th>nm_cidade_cliente</th><th>nm_rua_cliente</th><th>num_casa_cliente</th><th>telefone_cliente</th><th>dt_nascimento_cliente</th><th>dt_atualizacao</th><th>tp_pessoa</th><th>vl_renda</th></tr></thead><tbody><tr><td>396</td><td>Donald Walker</td><td>Cayman Islands</td><td>New Daisy</td><td>Palmer Crescent</td><td>25702</td><td>723.957.2526x786</td><td>1946-03-24</td><td>2024-07-18</td><td>PJ</td><td>20094.37</td></tr><tr><td>396</td><td>Jennifer Malone</td><td>Korea</td><td>Port Victormouth</td><td>Smith Walk</td><td>91710</td><td>(25)32909-5910</td><td>2005-11-20</td><td>2024-06-23</td><td>PJ</td><td>93709.69</td></tr><tr><td>396</td><td>Sarah Allen</td><td>Seychelles</td><td>North Melissabury</td><td>Burke Grove</td><td>249</td><td>(39)32960-8465</td><td>2001-10-12</td><td>2025-04-02</td><td>PJ</td><td>37091.67</td></tr><tr><td>396</td><td>Shelby Nelson</td><td>Romania</td><td>North Kendra</td><td>Thompson Isle</td><td>7982</td><td>(41)74353-8054</td><td>1999-03-10</td><td>2024-08-07</td><td>PF</td><td>5170.06</td></tr><tr><td>396</td><td>Shelia Lara</td><td>France</td><td>Lake Kennethtown</td><td>Michele Pines</td><td>133</td><td>(11)82513-7050</td><td>1990-07-11</td><td>2024-04-10</td><td>PJ</td><td>55683.41</td></tr></tbody></table></div>"
      ]
     },
     "metadata": {
      "application/vnd.databricks.v1+output": {
       "addedWidgets": {},
       "aggData": [],
       "aggError": "",
       "aggOverflow": false,
       "aggSchema": [],
       "aggSeriesLimitReached": false,
       "aggType": "",
       "arguments": {},
       "columnCustomDisplayInfos": {},
       "data": [
        [
         "396",
         "Donald Walker",
         "Cayman Islands",
         "New Daisy",
         "Palmer Crescent",
         "25702",
         "723.957.2526x786",
         "1946-03-24",
         "2024-07-18",
         "PJ",
         "20094.37"
        ],
        [
         "396",
         "Jennifer Malone",
         "Korea",
         "Port Victormouth",
         "Smith Walk",
         "91710",
         "(25)32909-5910",
         "2005-11-20",
         "2024-06-23",
         "PJ",
         "93709.69"
        ],
        [
         "396",
         "Sarah Allen",
         "Seychelles",
         "North Melissabury",
         "Burke Grove",
         "249",
         "(39)32960-8465",
         "2001-10-12",
         "2025-04-02",
         "PJ",
         "37091.67"
        ],
        [
         "396",
         "Shelby Nelson",
         "Romania",
         "North Kendra",
         "Thompson Isle",
         "7982",
         "(41)74353-8054",
         "1999-03-10",
         "2024-08-07",
         "PF",
         "5170.06"
        ],
        [
         "396",
         "Shelia Lara",
         "France",
         "Lake Kennethtown",
         "Michele Pines",
         "133",
         "(11)82513-7050",
         "1990-07-11",
         "2024-04-10",
         "PJ",
         "55683.41"
        ]
       ],
       "datasetInfos": [],
       "dbfsResultPath": null,
       "isJsonSchema": true,
       "metadata": {},
       "overflow": false,
       "plotOptions": {
        "customPlotOptions": {},
        "displayType": "table",
        "pivotAggregation": null,
        "pivotColumns": null,
        "xColumns": null,
        "yColumns": null
       },
       "removedWidgets": [],
       "schema": [
        {
         "metadata": "{}",
         "name": "cod_cliente",
         "type": "\"string\""
        },
        {
         "metadata": "{}",
         "name": "nm_cliente",
         "type": "\"string\""
        },
        {
         "metadata": "{}",
         "name": "nm_pais_cliente",
         "type": "\"string\""
        },
        {
         "metadata": "{}",
         "name": "nm_cidade_cliente",
         "type": "\"string\""
        },
        {
         "metadata": "{}",
         "name": "nm_rua_cliente",
         "type": "\"string\""
        },
        {
         "metadata": "{}",
         "name": "num_casa_cliente",
         "type": "\"string\""
        },
        {
         "metadata": "{}",
         "name": "telefone_cliente",
         "type": "\"string\""
        },
        {
         "metadata": "{}",
         "name": "dt_nascimento_cliente",
         "type": "\"string\""
        },
        {
         "metadata": "{}",
         "name": "dt_atualizacao",
         "type": "\"string\""
        },
        {
         "metadata": "{}",
         "name": "tp_pessoa",
         "type": "\"string\""
        },
        {
         "metadata": "{}",
         "name": "vl_renda",
         "type": "\"string\""
        }
       ],
       "type": "table"
      }
     },
     "output_type": "display_data"
    }
   ],
   "source": [
    "#Verificar repetição do cod_cliente\n",
    "df_clientes.filter(col(\"cod_cliente\") == 396).display()"
   ]
  },
  {
   "cell_type": "code",
   "execution_count": 0,
   "metadata": {
    "application/vnd.databricks.v1+cell": {
     "cellMetadata": {
      "byteLimit": 2048000,
      "rowLimit": 10000
     },
     "inputWidgets": {},
     "nuid": "2f01134a-2317-4168-bf32-8ec48356f233",
     "showTitle": true,
     "tableResultSettingsMap": {},
     "title": "Pergunta 2: Média de idade dos clientes"
    }
   },
   "outputs": [
    {
     "output_type": "stream",
     "name": "stdout",
     "output_type": "stream",
     "text": [
      "50.0\n"
     ]
    }
   ],
   "source": [
    "#Resposta - A média de idade dos clientes é 50 anos.\n",
    "\n",
    "media_idade = (\n",
    "    df_clientes\n",
    "        .withColumn(\"idade\", datediff(current_date(), col(\"dt_nascimento_cliente\")) / 365.25)\n",
    "        .agg(round(avg(\"idade\"),0).alias(\"media_idade\"))\n",
    "        .collect()[0][\"media_idade\"]\n",
    ")\n",
    "\n",
    "print(media_idade)"
   ]
  }
 ],
 "metadata": {
  "application/vnd.databricks.v1+notebook": {
   "computePreferences": null,
   "dashboards": [],
   "environmentMetadata": {
    "base_environment": "",
    "environment_version": "1"
   },
   "inputWidgetPreferences": null,
   "language": "python",
   "notebookMetadata": {
    "pythonIndentUnit": 4
   },
   "notebookName": "analise",
   "widgets": {}
  }
 },
 "nbformat": 4,
 "nbformat_minor": 0
}